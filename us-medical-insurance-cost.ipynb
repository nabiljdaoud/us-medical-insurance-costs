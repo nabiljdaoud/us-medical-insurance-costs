{
 "cells": [
  {
   "cell_type": "markdown",
   "id": "e9156c71",
   "metadata": {},
   "source": [
    "# U.S. Medical Insurance Costs\n",
    "This project loads a CSV file with people's demographic information and medical insurance costs to anlyize the data. I chose to load the data into a custom data structure using [python dataclasses](https://docs.python.org/3/library/dataclasses.html) then build a wrapper object with analysis methods.\n",
    "\n",
    "#### Sections\n",
    "* [dataclass](#Dataclass)\n",
    "* [wrapper object](#Object-with-analysis-methods)\n",
    "* [analyze](#Analyze)\n",
    "* [visualize](#Visualize)\n",
    "\n",
    "### Imports"
   ]
  },
  {
   "cell_type": "code",
   "execution_count": 1,
   "id": "f86605e5",
   "metadata": {},
   "outputs": [],
   "source": [
    "from collections import Counter\n",
    "import csv\n",
    "from dataclasses import asdict, dataclass\n",
    "from matplotlib import pyplot as plt"
   ]
  },
  {
   "cell_type": "markdown",
   "id": "57481176",
   "metadata": {},
   "source": [
    "### Dataclass\n",
    "[to top](#U.S.-Medical-Insurance-Costs)"
   ]
  },
  {
   "cell_type": "code",
   "execution_count": 2,
   "id": "f6a03e1d",
   "metadata": {},
   "outputs": [],
   "source": [
    "@dataclass(frozen=True)\n",
    "class Person():\n",
    "    \"\"\"Class for holding a person's medical insurance cost data.\n",
    "    \"\"\"\n",
    "    age: int\n",
    "    sex: str\n",
    "    bmi: float\n",
    "    children: int\n",
    "    smoker: str\n",
    "    region: str\n",
    "    charges: float\n",
    "    \n",
    "    @classmethod\n",
    "    def from_dict(cls, row_dict):\n",
    "        \"\"\"Create a class object from a dictionary.\n",
    "        \n",
    "        The purpose of this method is to try building a classmethod\n",
    "        \"\"\"\n",
    "        int_keys = ['age', 'children']\n",
    "        for int_key in int_keys:\n",
    "            try:\n",
    "                row_dict[int_key] = int(row_dict[int_key])\n",
    "            except KeyError as e:\n",
    "                raise KeyError(f'missing {int_key}') from e\n",
    "            except ValueError as e:\n",
    "                raise ValueError(f'cannot convert {repr(row_dict[int_key])} to type int')\n",
    "\n",
    "        float_keys = ['bmi', 'charges']\n",
    "        for float_key in float_keys:\n",
    "            try:\n",
    "                row_dict[float_key] = float(row_dict[float_key])\n",
    "            except KeyError as e:\n",
    "                raise KeyError(f'missing {int_key}') from e\n",
    "            except ValueError as e:\n",
    "                raise ValueError(f'cannot convert {repr(row_dict[int_key])} to type float')\n",
    "\n",
    "        return cls(**row_dict)\n",
    "    \n",
    "    @staticmethod\n",
    "    def print_reminder() -> None:\n",
    "        \"\"\"Print reminder.\n",
    "        \n",
    "        The purpose of this method is to try building a static method\n",
    "        \"\"\"\n",
    "        print('This data comes from people. Use with care.')\n",
    "    \n",
    "    @property\n",
    "    def is_female(self) -> bool:\n",
    "        return self.sex == 'female'\n",
    "    \n",
    "    @property\n",
    "    def is_smoker(self) -> bool:\n",
    "        return self.smoker == 'yes'\n",
    "    \n",
    "    def __str__(self) -> str:\n",
    "        return f\"Person is a {self.age} year old {self.sex}\""
   ]
  },
  {
   "cell_type": "markdown",
   "id": "624023af",
   "metadata": {},
   "source": [
    "### Load CSV Data into a list of Person dataclass\n",
    "[to top](#U.S.-Medical-Insurance-Costs)"
   ]
  },
  {
   "cell_type": "code",
   "execution_count": 3,
   "id": "d5ff4a6d",
   "metadata": {},
   "outputs": [],
   "source": [
    "people = []\n",
    "with open('insurance.csv', newline='') as insurance_csv:\n",
    "    insurance_reader = csv.DictReader(insurance_csv)\n",
    "    for row in insurance_reader:\n",
    "        people.append(Person.from_dict(row))"
   ]
  },
  {
   "cell_type": "markdown",
   "id": "bb788f89",
   "metadata": {},
   "source": [
    "### Try Dataclass Methods\n",
    "[to top](#U.S.-Medical-Insurance-Costs)\n",
    "\n",
    "#### from_dict() - Class method"
   ]
  },
  {
   "cell_type": "code",
   "execution_count": 4,
   "id": "742dec71",
   "metadata": {},
   "outputs": [
    {
     "data": {
      "text/plain": [
       "Person(age=22, sex='male', bmi=22.6, children=0, smoker='yes', region='northwest', charges=12345.67)"
      ]
     },
     "execution_count": 4,
     "metadata": {},
     "output_type": "execute_result"
    }
   ],
   "source": [
    "row_dict = {\n",
    "    'age': 22,\n",
    "    'sex': 'male',\n",
    "    'bmi': '22.6',\n",
    "    'children': 0,\n",
    "    'smoker': 'yes',\n",
    "    'region': 'northwest',\n",
    "    'charges': \" 12345.67 \",\n",
    "}\n",
    "person = Person.from_dict(row_dict)\n",
    "person"
   ]
  },
  {
   "cell_type": "markdown",
   "id": "199942a1",
   "metadata": {},
   "source": [
    "#### default __init__()"
   ]
  },
  {
   "cell_type": "code",
   "execution_count": 5,
   "id": "f741fc5f",
   "metadata": {},
   "outputs": [],
   "source": [
    "person = Person(age=32, sex='female', bmi=20.4, children=1, smoker='no', region='southwest', charges=23451.67)"
   ]
  },
  {
   "cell_type": "markdown",
   "id": "a3c7cac8",
   "metadata": {},
   "source": [
    "#### dataclasses.asdict()"
   ]
  },
  {
   "cell_type": "code",
   "execution_count": 6,
   "id": "60926448",
   "metadata": {},
   "outputs": [
    {
     "data": {
      "text/plain": [
       "{'age': 32,\n",
       " 'sex': 'female',\n",
       " 'bmi': 20.4,\n",
       " 'children': 1,\n",
       " 'smoker': 'no',\n",
       " 'region': 'southwest',\n",
       " 'charges': 23451.67}"
      ]
     },
     "execution_count": 6,
     "metadata": {},
     "output_type": "execute_result"
    }
   ],
   "source": [
    "asdict(person)"
   ]
  },
  {
   "cell_type": "markdown",
   "id": "14d74b56",
   "metadata": {},
   "source": [
    "#### print_reminder() - Static method"
   ]
  },
  {
   "cell_type": "code",
   "execution_count": 7,
   "id": "3aa1f2a7",
   "metadata": {},
   "outputs": [
    {
     "name": "stdout",
     "output_type": "stream",
     "text": [
      "This data comes from people. Use with care.\n"
     ]
    }
   ],
   "source": [
    "Person.print_reminder()"
   ]
  },
  {
   "cell_type": "markdown",
   "id": "b2c21415",
   "metadata": {},
   "source": [
    "#### repr() \n",
    "This method is built by the dataclass decorator"
   ]
  },
  {
   "cell_type": "code",
   "execution_count": 8,
   "id": "182667d8",
   "metadata": {},
   "outputs": [
    {
     "data": {
      "text/plain": [
       "\"Person(age=19, sex='female', bmi=27.9, children=0, smoker='yes', region='southwest', charges=16884.924)\""
      ]
     },
     "execution_count": 8,
     "metadata": {},
     "output_type": "execute_result"
    }
   ],
   "source": [
    "repr(people[0])"
   ]
  },
  {
   "cell_type": "markdown",
   "id": "71e9bd90",
   "metadata": {},
   "source": [
    "#### str()"
   ]
  },
  {
   "cell_type": "code",
   "execution_count": 9,
   "id": "8a6800c8",
   "metadata": {},
   "outputs": [
    {
     "name": "stdout",
     "output_type": "stream",
     "text": [
      "Person is a 18 year old male\n"
     ]
    }
   ],
   "source": [
    "print(people[1])"
   ]
  },
  {
   "cell_type": "markdown",
   "id": "ce9c55f4",
   "metadata": {},
   "source": [
    "### Object with analysis methods\n",
    "[to top](#U.S.-Medical-Insurance-Costs)"
   ]
  },
  {
   "cell_type": "code",
   "execution_count": 10,
   "id": "6b85cbe7",
   "metadata": {},
   "outputs": [],
   "source": [
    "class Cohort():\n",
    "    \"\"\"Class for holding and analyzing a group of people's medical insurnace cost data.\n",
    "    \"\"\"\n",
    "    def __init__(self, people):\n",
    "        self.people=people\n",
    "        self.n = len(people)\n",
    "\n",
    "    def average_age(self):\n",
    "        return sum(person.age for person in self.people)/self.n\n",
    "\n",
    "    def sex_count(self, sex):\n",
    "        return sum(person.sex == sex for person in self.people)\n",
    "\n",
    "    def average_charges_per(self, categorical):\n",
    "        unique_values = set(asdict(person)[categorical] for person in self.people)\n",
    "        charges = {}\n",
    "        for value in unique_values:\n",
    "            group_charges = [person.charges for person in self.people if asdict(person)[categorical] == value]\n",
    "            total  = sum(group_charges)\n",
    "            n = len(group_charges)\n",
    "            charges[value] = round(total/n, 2)\n",
    "        return charges\n",
    "\n",
    "    def counts_per(self, categorical):\n",
    "        return Counter(asdict(person)[categorical] for person in self.people)\n",
    "\n",
    "    def make_list_of(self, field):\n",
    "        return [asdict(person)[field] for person in self.people]\n",
    "\n",
    "cohort = Cohort(people)"
   ]
  },
  {
   "cell_type": "code",
   "execution_count": 11,
   "id": "50c633ff",
   "metadata": {},
   "outputs": [
    {
     "data": {
      "text/plain": [
       "Person(age='19', sex='female', bmi='27.9', children='0', smoker='yes', region='southwest', charges='16884.924')"
      ]
     },
     "execution_count": 11,
     "metadata": {},
     "output_type": "execute_result"
    }
   ],
   "source": [
    "Person(age='19', sex='female', bmi='27.9', children='0', smoker='yes', region='southwest', charges='16884.924')"
   ]
  },
  {
   "cell_type": "markdown",
   "id": "ea03cb19",
   "metadata": {},
   "source": [
    "### Analyze\n",
    "[to top](#U.S.-Medical-Insurance-Costs)\n",
    "#### Calculate the average age"
   ]
  },
  {
   "cell_type": "code",
   "execution_count": 12,
   "id": "23042ec3",
   "metadata": {},
   "outputs": [
    {
     "data": {
      "text/plain": [
       "39"
      ]
     },
     "execution_count": 12,
     "metadata": {},
     "output_type": "execute_result"
    }
   ],
   "source": [
    "avg_age = cohort.average_age()\n",
    "int(avg_age)"
   ]
  },
  {
   "cell_type": "markdown",
   "id": "a3218040",
   "metadata": {},
   "source": [
    "#### Get the counts by sex"
   ]
  },
  {
   "cell_type": "code",
   "execution_count": 13,
   "id": "26693cb1",
   "metadata": {},
   "outputs": [
    {
     "data": {
      "text/plain": [
       "662"
      ]
     },
     "execution_count": 13,
     "metadata": {},
     "output_type": "execute_result"
    }
   ],
   "source": [
    "cohort.sex_count('female')"
   ]
  },
  {
   "cell_type": "code",
   "execution_count": 14,
   "id": "d0573022",
   "metadata": {},
   "outputs": [
    {
     "data": {
      "text/plain": [
       "676"
      ]
     },
     "execution_count": 14,
     "metadata": {},
     "output_type": "execute_result"
    }
   ],
   "source": [
    "cohort.sex_count('male')"
   ]
  },
  {
   "cell_type": "code",
   "execution_count": 15,
   "id": "ea00b5ad",
   "metadata": {},
   "outputs": [
    {
     "data": {
      "text/plain": [
       "0"
      ]
     },
     "execution_count": 15,
     "metadata": {},
     "output_type": "execute_result"
    }
   ],
   "source": [
    "cohort.sex_count('intersex')"
   ]
  },
  {
   "cell_type": "markdown",
   "id": "2c1d7384",
   "metadata": {},
   "source": [
    "#### Get the averages charges for categorical variables"
   ]
  },
  {
   "cell_type": "code",
   "execution_count": 16,
   "id": "ed97cda8",
   "metadata": {},
   "outputs": [
    {
     "data": {
      "text/plain": [
       "{'male': 13956.75, 'female': 12569.58}"
      ]
     },
     "execution_count": 16,
     "metadata": {},
     "output_type": "execute_result"
    }
   ],
   "source": [
    "cohort.average_charges_per('sex')"
   ]
  },
  {
   "cell_type": "code",
   "execution_count": 17,
   "id": "25fd9025",
   "metadata": {},
   "outputs": [
    {
     "data": {
      "text/plain": [
       "{'no': 8434.27, 'yes': 32050.23}"
      ]
     },
     "execution_count": 17,
     "metadata": {},
     "output_type": "execute_result"
    }
   ],
   "source": [
    "cohort.average_charges_per('smoker')"
   ]
  },
  {
   "cell_type": "code",
   "execution_count": 18,
   "id": "8af4d4e0",
   "metadata": {},
   "outputs": [
    {
     "data": {
      "text/plain": [
       "{'northwest': 12417.58,\n",
       " 'northeast': 13406.38,\n",
       " 'southeast': 14735.41,\n",
       " 'southwest': 12346.94}"
      ]
     },
     "execution_count": 18,
     "metadata": {},
     "output_type": "execute_result"
    }
   ],
   "source": [
    "cohort.average_charges_per('region')"
   ]
  },
  {
   "cell_type": "markdown",
   "id": "61c49fbe",
   "metadata": {},
   "source": [
    "#### counts_per"
   ]
  },
  {
   "cell_type": "code",
   "execution_count": 19,
   "id": "deb0eff9",
   "metadata": {},
   "outputs": [
    {
     "data": {
      "text/plain": [
       "Counter({'yes': 274, 'no': 1064})"
      ]
     },
     "execution_count": 19,
     "metadata": {},
     "output_type": "execute_result"
    }
   ],
   "source": [
    "cohort.counts_per('smoker')"
   ]
  },
  {
   "cell_type": "markdown",
   "id": "ae603c53",
   "metadata": {},
   "source": [
    "### Visualize\n",
    "[to top](#U.S.-Medical-Insurance-Costs)"
   ]
  },
  {
   "cell_type": "markdown",
   "id": "f10118b3",
   "metadata": {},
   "source": [
    "#### Histogram\n",
    "Examin the distribution of BMI in the population. It appears to be close to normally distibuted."
   ]
  },
  {
   "cell_type": "code",
   "execution_count": 20,
   "id": "d3087b07",
   "metadata": {},
   "outputs": [
    {
     "data": {
      "image/png": "[encoded data removed]",
      "text/plain": [
       "<Figure size 432x288 with 1 Axes>"
      ]
     },
     "metadata": {
      "needs_background": "light"
     },
     "output_type": "display_data"
    }
   ],
   "source": [
    "_ = plt.hist(cohort.make_list_of('bmi'))\n",
    "_ = plt.title('BMI Histogram')\n",
    "plt.show()"
   ]
  },
  {
   "cell_type": "markdown",
   "id": "473c89a3",
   "metadata": {},
   "source": [
    "Take a second look with more bins. Still nearly normally distributed."
   ]
  },
  {
   "cell_type": "code",
   "execution_count": 21,
   "id": "06364126",
   "metadata": {},
   "outputs": [
    {
     "data": {
      "image/png": "[encoded data removed]",
      "text/plain": [
       "<Figure size 432x288 with 1 Axes>"
      ]
     },
     "metadata": {
      "needs_background": "light"
     },
     "output_type": "display_data"
    }
   ],
   "source": [
    "_ = plt.hist(cohort.make_list_of('bmi'), bins=20)\n",
    "_ = plt.title('BMI Histogram')\n",
    "plt.show()"
   ]
  },
  {
   "cell_type": "markdown",
   "id": "3585c789",
   "metadata": {},
   "source": [
    "#### Scatter Plot\n",
    "Look at the relationship between age and BMI. The data appears to be more homoscedastic than I would expect. I would expect young people and older people to have a lower BMI range than people in the middle years. "
   ]
  },
  {
   "cell_type": "code",
   "execution_count": 22,
   "id": "f5900102",
   "metadata": {},
   "outputs": [
    {
     "data": {
      "image/png": "[encoded data removed]",
      "text/plain": [
       "<Figure size 432x288 with 1 Axes>"
      ]
     },
     "metadata": {
      "needs_background": "light"
     },
     "output_type": "display_data"
    }
   ],
   "source": [
    "_ = plt.scatter(cohort.make_list_of('age'), cohort.make_list_of('bmi'))\n",
    "_ = plt.title(\"Age and BMI\")\n",
    "_ = plt.xlabel(\"Age [years]\")\n",
    "_ = plt.ylabel('BMI [$kg/m^2$]')\n",
    "plt.show()"
   ]
  },
  {
   "cell_type": "markdown",
   "id": "2ed864c4",
   "metadata": {},
   "source": [
    "#### Bar Plot\n",
    "As expected there are fewer people with increasing numbers of children."
   ]
  },
  {
   "cell_type": "code",
   "execution_count": 23,
   "id": "0780af32",
   "metadata": {},
   "outputs": [
    {
     "data": {
      "image/png": "[encoded data removed]",
      "text/plain": [
       "<Figure size 432x288 with 1 Axes>"
      ]
     },
     "metadata": {
      "needs_background": "light"
     },
     "output_type": "display_data"
    }
   ],
   "source": [
    "children_counts = cohort.counts_per('children')\n",
    "x = children_counts.keys()\n",
    "height = children_counts.values()\n",
    "\n",
    "_ = plt.bar(x, height)\n",
    "_ = plt.title(\"Number of People with n Children\")\n",
    "_ = plt.xlabel('number of children')\n",
    "_ = plt.ylabel('number of people')\n",
    "plt.show()"
   ]
  },
  {
   "cell_type": "markdown",
   "id": "e18465e0",
   "metadata": {},
   "source": [
    "#### Box Plot\n",
    "Age is evenly distibuted"
   ]
  },
  {
   "cell_type": "code",
   "execution_count": 24,
   "id": "e6e97d24",
   "metadata": {},
   "outputs": [
    {
     "data": {
      "image/png": "[encoded data removed]",
      "text/plain": [
       "<Figure size 432x288 with 1 Axes>"
      ]
     },
     "metadata": {
      "needs_background": "light"
     },
     "output_type": "display_data"
    }
   ],
   "source": [
    "_ = plt.boxplot(cohort.make_list_of('age'))\n",
    "_ = plt.title(\"Age Box Plot\")\n",
    "_ = plt.xticks([])\n",
    "_ = plt.ylabel('Age [years]')"
   ]
  },
  {
   "cell_type": "code",
   "execution_count": null,
   "id": "fff63d24",
   "metadata": {},
   "outputs": [],
   "source": []
  }
 ],
 "metadata": {
  "kernelspec": {
   "display_name": "Python 3 (ipykernel)",
   "language": "python",
   "name": "python3"
  },
  "language_info": {
   "codemirror_mode": {
    "name": "ipython",
    "version": 3
   },
   "file_extension": ".py",
   "mimetype": "text/x-python",
   "name": "python",
   "nbconvert_exporter": "python",
   "pygments_lexer": "ipython3",
   "version": "3.8.8"
  }
 },
 "nbformat": 4,
 "nbformat_minor": 5
}
